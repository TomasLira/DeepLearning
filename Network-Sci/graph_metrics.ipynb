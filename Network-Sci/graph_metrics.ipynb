{
 "cells": [
  {
   "cell_type": "code",
   "execution_count": 164,
   "id": "461f911b",
   "metadata": {},
   "outputs": [],
   "source": [
    "import networkx as nx\n",
    "import numpy as np\n",
    "from typing import Union,List,Optional,Tuple,Dict\n",
    "import itertools\n",
    "from collections import deque\n",
    "import matplotlib.pyplot as plt\n",
    "import scipy"
   ]
  },
  {
   "cell_type": "markdown",
   "id": "5adfa6d9",
   "metadata": {},
   "source": [
    "## Graph Metrics"
   ]
  },
  {
   "cell_type": "code",
   "execution_count": 165,
   "id": "a84a3507",
   "metadata": {},
   "outputs": [],
   "source": [
    "GraphType = Union[nx.Graph,nx.DiGraph,nx.MultiGraph,nx.MultiDiGraph]"
   ]
  },
  {
   "cell_type": "code",
   "execution_count": 166,
   "id": "22045906",
   "metadata": {},
   "outputs": [],
   "source": [
    "# DFS to find the shortest algorithm\n",
    "def dfs(G: nx.Graph, source: int, target: int) -> List[int]:\n",
    "    G_matrix = nx.to_numpy_array(G)\n",
    "    N = G_matrix.shape[0]\n",
    "    \n",
    "    visited = set()\n",
    "    path = []\n",
    "\n",
    "    def dfs(node: int) -> bool:\n",
    "        visited.add(node)\n",
    "        path.append(node)\n",
    "        if node == target:\n",
    "            return True\n",
    "        for i in range(N):\n",
    "            if G_matrix[node, i] == 1 and i not in visited:\n",
    "                if dfs(i):\n",
    "                    return True\n",
    "        path.pop()\n",
    "        return False\n",
    "\n",
    "    dfs(source)\n",
    "    return path\n",
    "\n",
    "def find_shortest_distance(G: nx.Graph, source: int, target: int) -> int:\n",
    "    G_matrix = nx.to_numpy_array(G)\n",
    "    N = G_matrix.shape[0]\n",
    "\n",
    "    if source == target:\n",
    "        return 0\n",
    "\n",
    "    def bfs(node: int) -> Optional[int]:\n",
    "        visited = set([source])\n",
    "        dist = [-1] * N\n",
    "        dist[source] = 0\n",
    "        queue = deque([source])\n",
    "\n",
    "        while queue:\n",
    "            node = queue.popleft()\n",
    "            if node == target:\n",
    "                return dist[node]\n",
    "            for i in range(N):\n",
    "                if G_matrix[node, i] != 0 and i not in visited:\n",
    "                    visited.add(i)\n",
    "                    dist[i] = dist[node] + 1\n",
    "                    queue.append(i)\n",
    "        return None  \n",
    "    return bfs(source)"
   ]
  },
  {
   "cell_type": "code",
   "execution_count": 167,
   "id": "709af12f",
   "metadata": {},
   "outputs": [
    {
     "name": "stdout",
     "output_type": "stream",
     "text": [
      "[[0. 0. 0. 0. 0. 1. 0.]\n",
      " [0. 0. 0. 0. 0. 1. 0.]\n",
      " [0. 0. 0. 0. 1. 1. 0.]\n",
      " [0. 0. 0. 0. 0. 1. 1.]\n",
      " [0. 0. 1. 0. 0. 0. 1.]\n",
      " [1. 1. 1. 1. 0. 0. 0.]\n",
      " [0. 0. 0. 1. 1. 0. 0.]]\n"
     ]
    },
    {
     "data": {
      "image/png": "[encoded data removed]",
      "text/plain": [
       "<Figure size 640x480 with 1 Axes>"
      ]
     },
     "metadata": {},
     "output_type": "display_data"
    }
   ],
   "source": [
    "G = nx.erdos_renyi_graph(p=0.4,n=7,seed=20)\n",
    "nx.draw(G,with_labels=True,node_color='lightblue',node_size=700)\n",
    "G_mat = nx.to_numpy_array(G)\n",
    "print(G_mat)\n",
    "plt.draw()"
   ]
  },
  {
   "cell_type": "code",
   "execution_count": 168,
   "id": "4006afa2",
   "metadata": {},
   "outputs": [
    {
     "name": "stdout",
     "output_type": "stream",
     "text": [
      "starting from 0 to 6 \t 2 \n",
      "\n",
      "starting from 1 to 6 \t 2 \n",
      "\n",
      "starting from 2 to 6 \t 2 \n",
      "\n",
      "starting from 3 to 6 \t 0 \n",
      "\n",
      "starting from 4 to 6 \t 2 \n",
      "\n",
      "starting from 5 to 6 \t 1 \n",
      "\n",
      "starting from 6 to 6 \t 1 \n",
      "\n"
     ]
    },
    {
     "data": {
      "text/plain": [
       "{3: 0, 5: 1, 6: 1, 0: 2, 1: 2, 2: 2, 4: 2}"
      ]
     },
     "execution_count": 168,
     "metadata": {},
     "output_type": "execute_result"
    }
   ],
   "source": [
    "for i in range(G_mat.shape[0]):\n",
    "    dist = find_shortest_distance(G,3,i) \n",
    "    print(f\"starting from {i} to {6}\",\"\\t\",dist,\"\\n\")\n",
    "\n",
    "nx.shortest_path_length(G,3)"
   ]
  },
  {
   "cell_type": "code",
   "execution_count": 169,
   "id": "41ee0b92",
   "metadata": {},
   "outputs": [
    {
     "name": "stdout",
     "output_type": "stream",
     "text": [
      "[0.46153846153846156, 0.46153846153846156, 0.6, 0.6, 0.5, 0.75, 0.5]\n",
      "{0: 0.46153846153846156, 1: 0.46153846153846156, 2: 0.6, 3: 0.6, 4: 0.5, 5: 0.75, 6: 0.5}\n"
     ]
    }
   ],
   "source": [
    "def my_closeness_centrality(G:nx.Graph):\n",
    "    N = G.number_of_nodes()\n",
    "    centrality = [0] * N\n",
    "    for i in G.nodes():\n",
    "        total_dist = 0\n",
    "        for j in G.nodes():\n",
    "            if i != j:\n",
    "                total_dist += find_shortest_distance(G,i,j)\n",
    "        if total_dist > 0:\n",
    "            centrality[i] = (N-1)/total_dist\n",
    "\n",
    "    return centrality\n",
    "\n",
    "print(my_closeness_centrality(G))\n",
    "print(nx.closeness_centrality(G)) "
   ]
  },
  {
   "cell_type": "code",
   "execution_count": 170,
   "id": "89827f98",
   "metadata": {},
   "outputs": [
    {
     "name": "stdout",
     "output_type": "stream",
     "text": [
      "{0: 0.0, 1: 0.0, 2: 3.0, 3: 3.0, 4: 1.0, 5: 10.0, 6: 1.0}\n",
      "{0: 0.0, 1: 0.0, 2: 3.0, 3: 3.0, 4: 1.0, 5: 10.0, 6: 1.0}\n"
     ]
    }
   ],
   "source": [
    "def my_betweenness_centrality(G: nx.Graph) -> dict[int, float]:\n",
    "    nodes = list(G.nodes())\n",
    "    scores: dict[int, float] = {node: 0.0 for node in nodes}\n",
    "\n",
    "    for i in nodes:\n",
    "        for j in nodes:\n",
    "            for k in nodes:\n",
    "                if i == j or i == k or j >= k:\n",
    "                    continue\n",
    "\n",
    "                # Find all shortest paths between j and k\n",
    "                all_shortest = list(nx.all_shortest_paths(G, source=j, target=k))\n",
    "                num_shortest_paths = len(all_shortest)\n",
    "\n",
    "                if num_shortest_paths > 0:\n",
    "                    paths_through_i = 0\n",
    "                    for path in all_shortest:\n",
    "                        if i in path[1:-1]:\n",
    "                            paths_through_i += 1\n",
    "                    if num_shortest_paths > 0:\n",
    "                        scores[i] += paths_through_i / num_shortest_paths\n",
    "\n",
    "    return scores\n",
    "\n",
    "print(my_betweenness_centrality(G))\n",
    "print(nx.betweenness_centrality(G, normalized=False))"
   ]
  },
  {
   "cell_type": "code",
   "execution_count": 171,
   "id": "149fde0f",
   "metadata": {},
   "outputs": [
    {
     "name": "stdout",
     "output_type": "stream",
     "text": [
      "spectral radius: 2.2561897492053387\n",
      "chosen alpha: 0.2258394174331972\n"
     ]
    }
   ],
   "source": [
    "#\\alpha < \\frac{1}{\\rho(G)\n",
    "def spectral_radius(A):\n",
    "    vals = np.linalg.eigvals(A)\n",
    "    return max(abs(vals))\n",
    "\n",
    "rho = spectral_radius(nx.to_numpy_array(G))\n",
    "\n",
    "alpha = np.random.uniform(0, 1/rho)\n",
    "print(\"spectral radius:\", rho)\n",
    "print(\"chosen alpha:\", alpha)"
   ]
  },
  {
   "cell_type": "code",
   "execution_count": 172,
   "id": "42ce7f52",
   "metadata": {},
   "outputs": [
    {
     "name": "stdout",
     "output_type": "stream",
     "text": [
      "mine: [0.30548674 0.30548674 0.38686612 0.38686612 0.36034178]\n",
      "networkx: [0.3054867557797557, 0.3054867557797557, 0.38686611070981275, 0.38686611070981275, 0.3603417910046729]\n"
     ]
    }
   ],
   "source": [
    "import numpy as np\n",
    "import networkx as nx\n",
    "\n",
    "def my_katz_centrality(G: nx.Graph, alpha=0.85, beta=1.0, normalized=True):\n",
    "    A = nx.to_numpy_array(G)\n",
    "    n = A.shape[0]\n",
    "    I = np.eye(n)\n",
    "    ones = beta * np.ones((n, 1))\n",
    "\n",
    "    # raw Katz vector\n",
    "    r = np.linalg.solve(I - alpha*A.T, ones)\n",
    "\n",
    "    # optional, networkx does it!\n",
    "    if normalized:\n",
    "        r = r / np.linalg.norm(r)  \n",
    "    return r.flatten()\n",
    "\n",
    "mine = my_katz_centrality(G, alpha=alpha)\n",
    "nx_vals = nx.katz_centrality(G, alpha=alpha, beta=1.0, normalized=True)\n",
    "\n",
    "print(\"mine:\", mine[:5])\n",
    "print(\"networkx:\", list(nx_vals.values())[:5])"
   ]
  },
  {
   "cell_type": "code",
   "execution_count": 173,
   "id": "60c5b92f",
   "metadata": {},
   "outputs": [],
   "source": [
    "#list(G.nodes())"
   ]
  },
  {
   "cell_type": "code",
   "execution_count": 174,
   "id": "4d946963",
   "metadata": {},
   "outputs": [
    {
     "name": "stdout",
     "output_type": "stream",
     "text": [
      "{0: array([0.12169855]), 1: array([0.12169855]), 2: array([0.13775662]), 3: array([0.13775662]), 4: array([0.14220788]), 5: array([0.1966739]), 6: array([0.14220788])}\n",
      "{0: 0.12169858962293632, 1: 0.12169858962293632, 2: 0.13775667173575729, 3: 0.13775667173575729, 4: 0.14220786039732922, 5: 0.1966737564879542, 6: 0.14220786039732922}\n"
     ]
    }
   ],
   "source": [
    "def my_page_rank(G_nx: nx.Graph, alpha: float = 0.85,tol: float = 1e-9, max_iter: int = 100):\n",
    "    if not G_nx.is_directed():\n",
    "        G_nx = G_nx.to_directed()\n",
    "\n",
    "    N = G_nx.number_of_nodes()\n",
    "    nodes = list(G_nx.nodes())\n",
    "    A = nx.to_numpy_array(G_nx, nodelist=nodes)\n",
    "\n",
    "    H = A.T.copy()\n",
    "\n",
    "    C = (1 / N) * np.ones((N, N), dtype=float)\n",
    "    out_degree = np.sum(A, axis=1)\n",
    "\n",
    "    for j in range(N): \n",
    "        if out_degree[j] > 0:\n",
    "            H[:,j] /= out_degree[j]  \n",
    "        else:\n",
    "            H[:,j] = 1.0 / N\n",
    "\n",
    "    G = alpha * H + (1 - alpha) * C\n",
    "\n",
    "    # eigs, vecs = np.linalg.eig(G)\n",
    "    # print(\"Eigenvalues:\", eigs)\n",
    "\n",
    "    pi = 1/N * np.ones((N,1))\n",
    "    \n",
    "    for _ in range(max_iter):\n",
    "        prev_pi = pi.copy()\n",
    "        pi = G@pi\n",
    "\n",
    "        if np.linalg.norm(pi - prev_pi) < tol:\n",
    "            break\n",
    "\n",
    "    s = np.sum(pi)\n",
    "    if s > 0:\n",
    "        return dict(zip(nodes, pi/s))\n",
    "    \n",
    "print(my_page_rank(G,alpha=alpha))\n",
    "print(nx.pagerank(G,alpha=alpha))"
   ]
  },
  {
   "cell_type": "code",
   "execution_count": 175,
   "id": "bb5bbc08",
   "metadata": {},
   "outputs": [],
   "source": [
    "N=3000\n",
    "p = 0.001\n",
    "G = nx.erdos_renyi_graph(n=N,p=p,seed=22)"
   ]
  },
  {
   "cell_type": "code",
   "execution_count": 176,
   "id": "724a34f5",
   "metadata": {},
   "outputs": [
    {
     "name": "stdout",
     "output_type": "stream",
     "text": [
      "2.9353333333333333\n",
      "2.9353333333333333\n"
     ]
    }
   ],
   "source": [
    "# \\bar k = \\frac{2L}{N}\n",
    "def average_degree(G: nx.Graph):\n",
    "    G_matrix = nx.to_numpy_array(G)\n",
    "    total_degree = (np.ones((G.number_of_nodes(),1)).T @ G_matrix @ np.ones((G.number_of_nodes(),1))).item()\n",
    "    return total_degree / G_matrix.shape[0]\n",
    "\n",
    "print(average_degree(G))\n",
    "print(2 * G.number_of_edges() / G.number_of_nodes())"
   ]
  },
  {
   "cell_type": "code",
   "execution_count": 177,
   "id": "371fc6f7",
   "metadata": {},
   "outputs": [
    {
     "name": "stdout",
     "output_type": "stream",
     "text": [
      " Given that 1 < 2.999 < log(N)=8.006, our regime is SUPERCRITICAL (sparse)\n"
     ]
    }
   ],
   "source": [
    "def classify_graph_regime(G: nx.Graph):\n",
    "    N = G.number_of_nodes()\n",
    "    expected_degree = p * (N - 1)\n",
    "    logN = np.log(N)\n",
    "\n",
    "    if expected_degree < 1:\n",
    "        print(f\" Given that {expected_degree:.3f} < 1, our regime is SUBCRITICAL\")\n",
    "    elif abs(expected_degree - 1) < 1e-6:  # tolerance for equality\n",
    "        print(f\" Given that {expected_degree:.3f} ≈ 1, our regime is CRITICAL\")\n",
    "    elif expected_degree < logN:\n",
    "        print(f\" Given that 1 < {expected_degree:.3f} < log(N)={logN:.3f}, our regime is SUPERCRITICAL (sparse)\")\n",
    "    else:\n",
    "        print(f\" Given that {expected_degree:.3f} >> log(N)={logN:.3f}, our regime is DENSE\")\n",
    "\n",
    "classify_graph_regime(G)"
   ]
  },
  {
   "cell_type": "markdown",
   "id": "12e4e830",
   "metadata": {},
   "source": [
    "## Network Graphs"
   ]
  },
  {
   "cell_type": "markdown",
   "id": "ad509a6f",
   "metadata": {},
   "source": [
    "A **random network** is defined as a probability distribution over possible graphs.  \n",
    "This makes it possible to specify a **probabilistic rule** for how nodes connect.  \n",
    "\n",
    "---\n",
    "\n",
    "### 1. Erdős–Rényi Model $G(n,p)$\n",
    "- **Definition:**  \n",
    "  Given $n$ nodes, each of the $\\binom{n}{2}$ possible edges is included **independently** with probability $p$.  \n",
    "\n",
    "- **Setup:**  \n",
    "  The model is fully determined by the pair $(n,p)$.  \n",
    "  1. Fix the number of nodes $n$.  \n",
    "  2. Choose an edge probability $p \\in [0,1]$.  \n",
    "  3. For each possible pair of nodes, include the edge with probability $p$, independently.  \n",
    "\n",
    "- **Key Properties:**  \n",
    "  - Degree distribution: approximately **Binomial** $\\text{Bin}(n-1,p)$, converging to **Poisson** in the sparse limit ($n \\to \\infty$, $p \\to 0$, with $np=\\lambda$ fixed).  \n",
    "  - **No clustering beyond chance**: triangles occur only with probability $p$, without additional reinforcement.  \n",
    "  - **No hubs**: degrees are concentrated around the mean $p(n-1)$; extreme degrees are rare.  \n",
    "  - **Threshold phenomena**: giant component appears when $p \\sim 1/n$; connectivity occurs when $p \\sim (\\ln n)/n$.  \n",
    "\n",
    "---\n",
    "\n",
    "\n",
    "### 2. Uniform Attachment Model (UA)\n",
    "\n",
    "- **Definition:**  \n",
    "  Start with a small initial graph (often one or two nodes). At each step:  \n",
    "  1. A new node arrives.  \n",
    "  2. It chooses one or more existing nodes **uniformly at random** (all existing nodes equally likely).  \n",
    "  3. The new node creates exactly $m$ edges to existing nodes, choosing them according to the probability above.\n",
    "\n",
    "\n",
    "- **Key Properties:**  \n",
    "  - Degree distribution: **exponential**  \n",
    "    $$\n",
    "    P(k) \\sim C e^{-\\lambda k},\n",
    "    $$  \n",
    "    meaning high-degree nodes are exponentially rare.  \n",
    "  - **No hubs**: unlike preferential attachment, UA does not produce dominant nodes with extremely high degree.  \n",
    "  - **No clustering beyond chance**: triangles occur only accidentally, with probability consistent with uniform random linking.  \n",
    "  - Serves as the **baseline growth model**, analogous to how Erdős–Rényi is the baseline static model.  \n",
    "\n",
    "---\n",
    "\n",
    "### 3. Preferential Attachment Model (Barabási–Albert)\n",
    "\n",
    "- **Definition:**  \n",
    "  The probability that a new node connects to an existing node is proportional to its degree. Formally:\n",
    "  $$\n",
    "  \\Pr(\\text{new node links to } i) = \\frac{\\deg(i,t)}{\\sum_{j=1}^n \\deg(j,t)}\n",
    "  $$\n",
    "  This implements the **“rich-get-richer”** rule.\n",
    "\n",
    "- **Mechanism (Barabási–Albert):**\n",
    "  1. Start with a small seed network.  \n",
    "  2. At each step, a new node arrives.  \n",
    "  3. The new node creates exactly $m$ edges to existing nodes, choosing them according to the probability above.\n",
    "\n",
    "- **Key Properties:**  \n",
    "  - Degree distribution follows a **power law**:\n",
    "    $$\n",
    "    P(k) \\sim k^{-3}\n",
    "    $$\n",
    "  - **Hubs** naturally emerge (a few very high-degree nodes).  \n",
    "  - **Low clustering** (triangles form only by chance).  \n",
    "  - **Small-world property**: average path length grows logarithmically with network size.  \n",
    "  - **Robustness**: resilient to random failure, fragile to targeted hub attacks.  \n"
   ]
  },
  {
   "cell_type": "code",
   "execution_count": 178,
   "id": "891260f3",
   "metadata": {},
   "outputs": [],
   "source": [
    "N = 7\n",
    "p = 0.3"
   ]
  },
  {
   "cell_type": "code",
   "execution_count": 179,
   "id": "4d2cd447",
   "metadata": {},
   "outputs": [
    {
     "name": "stdout",
     "output_type": "stream",
     "text": [
      "\n",
      "[Erdős-Rényi]\n",
      "  n: 2000\n",
      "  m: 4056\n",
      "  avg_degree: 4.056\n",
      "  max_degree: 12\n",
      "  avg_clustering: 0.0018448412698412698\n",
      "  giant_component_size: 1969\n",
      "  diameter_giant: 12\n",
      "\n",
      "[Uniforme (anexação aleatória)]\n",
      "  n: 2000\n",
      "  m: 3986\n",
      "  avg_degree: 3.986\n",
      "  max_degree: 16\n",
      "  avg_clustering: 0.0019011363636363635\n",
      "  giant_component_size: 2000\n",
      "  diameter_giant: 9\n",
      "\n",
      "[Preferencial (BA via amostragem de arestas)]\n",
      "  n: 2000\n",
      "  m: 3977\n",
      "  avg_degree: 3.977\n",
      "  max_degree: 135\n",
      "  avg_clustering: 0.011578754935231373\n",
      "  giant_component_size: 1995\n",
      "  diameter_giant: 8\n",
      "\n",
      "[Misto (alpha=0.5)]\n",
      "  n: 2000\n",
      "  m: 3982\n",
      "  avg_degree: 3.982\n",
      "  max_degree: 39\n",
      "  avg_clustering: 0.004241867831129465\n",
      "  giant_component_size: 2000\n",
      "  diameter_giant: 9\n"
     ]
    },
    {
     "data": {
      "image/png": "[encoded data removed]",
      "text/plain": [
       "<Figure size 640x480 with 1 Axes>"
      ]
     },
     "metadata": {},
     "output_type": "display_data"
    },
    {
     "data": {
      "image/png": "[encoded data removed]",
      "text/plain": [
       "<Figure size 640x480 with 1 Axes>"
      ]
     },
     "metadata": {},
     "output_type": "display_data"
    },
    {
     "data": {
      "image/png": "[encoded data removed]",
      "text/plain": [
       "<Figure size 640x480 with 1 Axes>"
      ]
     },
     "metadata": {},
     "output_type": "display_data"
    },
    {
     "data": {
      "image/png": "[encoded data removed]",
      "text/plain": [
       "<Figure size 640x480 with 1 Axes>"
      ]
     },
     "metadata": {},
     "output_type": "display_data"
    }
   ],
   "source": [
    "import numpy as np\n",
    "import networkx as nx\n",
    "import itertools\n",
    "import matplotlib.pyplot as plt\n",
    "from collections import Counter\n",
    "np.random.seed(42)\n",
    "\n",
    "def my_erdos_renyi_model(n: int, p: float):\n",
    "    nodes = list(range(n))\n",
    "    all_edges = list(itertools.combinations(nodes, 2))\n",
    "    G = nx.Graph()\n",
    "    G.add_nodes_from(nodes)\n",
    "    for edge in all_edges:\n",
    "        if np.random.rand() < p: \n",
    "            G.add_edge(*edge)\n",
    "    return G\n",
    "\n",
    "def my_uniform_model(n:int, p:float, num_edges:int):\n",
    "    G = nx.erdos_renyi_graph(num_edges + 5, p)\n",
    "    for new_node in range(num_edges+5,n):\n",
    "        targets = np.random.choice(list(G.nodes()), size=num_edges, replace=False)\n",
    "        G.add_node(new_node)\n",
    "        for t in targets:\n",
    "            G.add_edge(new_node,t)\n",
    "    return G\n",
    "\n",
    "def my_barabasi_model(n: int, p: float, num_edges: int):\n",
    "    G = nx.erdos_renyi_graph(num_edges + 5, p)\n",
    "\n",
    "    for new_node in range(num_edges + 5, n):\n",
    "        if G.number_of_edges() < num_edges:\n",
    "            targets = np.random.choice(list(G.nodes()), size=num_edges, replace=False)\n",
    "        else:\n",
    "            edges = list(G.edges())\n",
    "            idx = np.random.choice(len(edges), size=num_edges, replace=False)  # amostra índices\n",
    "            sampled_edges = [edges[i] for i in idx]\n",
    "            targets = [e[np.random.randint(0, 2)] for e in sampled_edges]\n",
    "\n",
    "        G.add_node(new_node)\n",
    "        for t in targets:\n",
    "            if t != new_node:\n",
    "                G.add_edge(new_node, t)\n",
    "    return G\n",
    "\n",
    "\n",
    "\n",
    "def my_mixed_model(n:int, p:float, num_edges:int, alpha:float):\n",
    "    G = nx.erdos_renyi_graph(num_edges + 5, p)\n",
    "\n",
    "    for new_node in range(num_edges+5, n):\n",
    "        if np.random.rand() > alpha:\n",
    "            targets = np.random.choice(list(G.nodes()), size=num_edges, replace=False)\n",
    "        else:\n",
    "            if G.number_of_edges() < num_edges:\n",
    "                targets = np.random.choice(list(G.nodes()), size=num_edges, replace=False)\n",
    "            else:\n",
    "                edges = list(G.edges())\n",
    "                idx = np.random.choice(len(edges), size=num_edges, replace=False)\n",
    "                sampled_edges = [edges[i] for i in idx]\n",
    "                targets = [e[np.random.randint(0, 2)] for e in sampled_edges]\n",
    "\n",
    "        G.add_node(new_node)\n",
    "        for t in targets:\n",
    "            if t != new_node:\n",
    "                G.add_edge(new_node, t)\n",
    "    return G\n",
    "\n",
    "\n",
    "\n",
    "def basic_stats(G):\n",
    "    n = G.number_of_nodes()\n",
    "    m = G.number_of_edges()\n",
    "    degs = [d for _, d in G.degree()]\n",
    "    avg_k = np.mean(degs)\n",
    "    max_k = np.max(degs) if degs else 0\n",
    "    cc = nx.average_clustering(G) if n > 1 else 0.0\n",
    "    comps = list(nx.connected_components(G))\n",
    "    giant_size = max((len(c) for c in comps), default=0)\n",
    "    diam = None\n",
    "    if giant_size > 1:\n",
    "        H = G.subgraph(max(comps, key=len)).copy()\n",
    "        if nx.is_connected(H):\n",
    "            diam = nx.diameter(H)\n",
    "    return {\n",
    "        \"n\": n, \"m\": m, \"avg_degree\": avg_k, \"max_degree\": max_k,\n",
    "        \"avg_clustering\": cc, \"giant_component_size\": giant_size, \"diameter_giant\": diam\n",
    "    }\n",
    "\n",
    "def plot_degree_hist(G, title=\"Degree distribution (log-log)\"):\n",
    "    degs = [d for _, d in G.degree()]\n",
    "    c = Counter(degs)\n",
    "    x = np.array(sorted([k for k in c.keys() if k>0]))\n",
    "    y = np.array([c[k] for k in x]) / G.number_of_nodes()\n",
    "    if len(x)==0:\n",
    "        print(\"Sem graus positivos para plotar.\")\n",
    "        return\n",
    "    plt.figure()\n",
    "    plt.loglog(x, y, marker='o', linestyle='none')\n",
    "    plt.xlabel(\"grau k (log)\")\n",
    "    plt.ylabel(\"P(k) (log)\")\n",
    "    plt.title(title)\n",
    "    plt.show()\n",
    "\n",
    "\n",
    "n = 2000\n",
    "p0 = 0.002\n",
    "m_new = 2\n",
    "alpha = 0.5\n",
    "\n",
    "G_er = my_erdos_renyi_model(n, p0)\n",
    "G_un = my_uniform_model(n, p0, m_new)\n",
    "G_ba = my_barabasi_model(n, p0, m_new)\n",
    "G_mix = my_mixed_model(n, p0, m_new, alpha)\n",
    "\n",
    "for name, G in [(\"Erdős-Rényi\", G_er),\n",
    "                (\"Uniforme (anexação aleatória)\", G_un),\n",
    "                (\"Preferencial (BA via amostragem de arestas)\", G_ba),\n",
    "                (f\"Misto (alpha={alpha})\", G_mix)]:\n",
    "    stats = basic_stats(G)\n",
    "    print(f\"\\n[{name}]\")\n",
    "    for k, v in stats.items():\n",
    "        print(f\"  {k}: {v}\")\n",
    "\n",
    "plot_degree_hist(G_er, \"ER: distribuição de graus\")\n",
    "plot_degree_hist(G_un, \"Uniforme: distribuição de graus\")\n",
    "plot_degree_hist(G_ba, \"Preferencial: distribuição de graus\")\n",
    "plot_degree_hist(G_mix, f\"Misto (alpha={alpha}): distribuição de graus\")\n"
   ]
  },
  {
   "cell_type": "markdown",
   "id": "43796a29",
   "metadata": {},
   "source": [
    "## Scale Free Distributions"
   ]
  },
  {
   "cell_type": "markdown",
   "id": "77e4c776",
   "metadata": {},
   "source": [
    "### Friendship-Paradox\n",
    "\n",
    "The degree distribution $p_k$ expresses the probability that a randomly selected node has $k$ neighbors. However, if we randomly select a link, the probability that a node at one of its ends has degree $k$ is $q_k = A k p_k$, where $A$ is a normalization factor.\n",
    "\n",
    "**1)**\n",
    "\n",
    "Given a network with a truncated power-law degree distribution\n",
    "$$\n",
    "p_k = C\\,k^{-\\gamma}, \\qquad k_{\\min} \\le k \\le k_{\\max}, \\quad 2<\\gamma<3,\n",
    "$$\n",
    "and the excess-degree distribution\n",
    "$$\n",
    "q_k = A\\,k\\,p_k, \\qquad k_{\\min} \\le k \\le k_{\\max},\n",
    "$$\n",
    "find the normalization factor $A$ such that\n",
    "$$\n",
    "\\sum_{k=k_{\\min}}^{k_{\\max}} q_k \\;=\\; 1.\n",
    "$$\n",
    "Express $A$ explicitly in terms of $k_{\\min},\\,k_{\\max},\\,\\text{and } \\gamma$.\n",
    "\n",
    "_Solution_\n",
    "\n",
    "\n",
    "We know that $p_k$ is a proper distribution. Hence \n",
    "$$\n",
    "\\sum_{k_{min}}^{k_{max}} q_k = \\sum_{k_{min}}^{k_{max}} A k p_k = A \\sum_{k_{min}}^{k_{max}} k p_k = A\\cdot\\mathbb{E}[k]\n",
    "$$\n",
    "Because we want $q_k$ to be a proper distribution. Then:\n",
    "$$\n",
    "\\sum_{k_{min}}^{k_{max}} q_k =A\\cdot\\mathbb{E}[p_k]  = 1 \\implies A = \\frac{1}{\\mathbb{E}[k]} = \\frac{1}{\\langle k \\rangle}\n",
    "$$\n",
    "Studying our new found discrete distribution:\n",
    "$$\n",
    "q_k =\\frac{k\\cdot p_k}{\\langle k \\rangle} = \\frac{k\\cdot C\\,k^{-\\gamma}}{\\langle k \\rangle}\n",
    "$$\n",
    "Right now we accomplished our goal of represential $q_k$ in terms of known constants and terms. But we can go even futher trying to pinpoint the exact functional equation of $\\langle k \\rangle$.\n",
    "\n",
    "In light of this, notice that:\n",
    "$$\n",
    "\\sum_{k_{min}}^{k_{max}} p_k = \\sum_{k_{min}}^{k_{max}} C k^{-\\gamma} \\implies C = \\left(\\sum_{k_{min}}^{k_{max}} k^{-\\gamma} \\right)^{-1}\n",
    "$$\n",
    "PLugin this result into the definition of expectation and using the closed form of $p_k:$\n",
    "$$\n",
    "\\langle k \\rangle = \\sum_{k_{min}}^{k_{max}} k \\cdot p_k \\implies \\frac{1}{\\langle k \\rangle } =  C\\cdot \\left(\\sum_{k_{min}}^{k_{max}} k^{1-\\gamma} \\right)^{-1}= \\frac{\\sum_{k_{min}}^{k_{max}} k^{-\\gamma}}{\\sum_{k_{min}}^{k_{max}} k^{1-\\gamma} }\n",
    "$$\n",
    "We can go a step further and approximate the summation using integration:\n",
    "$$\n",
    "\\int_{k_{min}}^{k_{max}} k^{1-\\gamma}\\,dk\n",
    "$$\n",
    "Using oru hypothesis, we know that $\\gamma>2$, making our integral converge, taking the asymototic limit $k_{max}\\to\\infty$, we have a standard polynomial integral:\n",
    "$$\n",
    "\\int_{k_{min}}^{+\\infty} k^{1-\\gamma}\\,dk = \\frac{1}{(2-\\gamma)} k_{min}^{2-\\gamma},\\quad \\int_{k_{min}}^{+\\infty} k^{-\\gamma}\\,dk = \\frac{1}{(1-\\gamma)}k_{min}^{1-\\gamma}\n",
    "$$\n",
    "Hence:\n",
    "$$\n",
    "\\frac{1}{\\langle k \\rangle } = \\frac{1}{\\frac{(1-\\gamma)}{(2-\\gamma)}k_{\\min}}\n",
    "$$\n",
    "\n",
    "**2)**\n",
    "\n",
    "In the configuration model, $q_k$ is the probability that a randomly chosen node has a neighbor with degree $k$. What is the average degree of the neighbors of a randomly chosen node?  \n",
    "\n",
    "_Solution_\n",
    "We know that by definition the degree distribution of the neighbour is given by $q_k$. Hence, its expectation can be calculated as follows:\n",
    "$$\n",
    "\\sum_{k_{min}}^{k_{max}} k q_k = \\sum_{k_{min}}^{k_{max}} k\\cdot \\left(\\frac{k\\cdot p_k}{\\langle k\\rangle}\\right) = \\frac{\\langle k\\rangle^2}{\\langle k\\rangle}\n",
    "$$"
   ]
  }
 ],
 "metadata": {
  "kernelspec": {
   "display_name": ".venv",
   "language": "python",
   "name": "python3"
  },
  "language_info": {
   "codemirror_mode": {
    "name": "ipython",
    "version": 3
   },
   "file_extension": ".py",
   "mimetype": "text/x-python",
   "name": "python",
   "nbconvert_exporter": "python",
   "pygments_lexer": "ipython3",
   "version": "3.13.0"
  }
 },
 "nbformat": 4,
 "nbformat_minor": 5
}
